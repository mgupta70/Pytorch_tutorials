{
 "cells": [
  {
   "cell_type": "code",
   "execution_count": 1,
   "id": "c70a60ec",
   "metadata": {},
   "outputs": [],
   "source": [
    "# import\n",
    "import torch\n",
    "import torchvision.datasets as datasets\n",
    "import torch.nn as nn           # All NN module\n",
    "import torch.nn.functional as F # has functions w/o paramters like relu and tanh\n",
    "from torch.utils.data import DataLoader\n",
    "import torch.optim as optim\n",
    "import torchvision.transforms as transforms # it has transforms that can be applied"
   ]
  },
  {
   "cell_type": "code",
   "execution_count": 2,
   "id": "3f3efc2a",
   "metadata": {},
   "outputs": [
    {
     "name": "stdout",
     "output_type": "stream",
     "text": [
      "torch.Size([8, 10])\n"
     ]
    }
   ],
   "source": [
    "# Model\n",
    "class CNN(nn.Module):\n",
    "    def __init__(self, in_channels = 1, num_classes = 10):\n",
    "        super(CNN, self).__init__()\n",
    "        self.conv1 = nn.Conv2d(in_channels=1,out_channels=8, kernel_size=(3,3), stride=(1,1), padding=(1,1)) # same convolution\n",
    "        self.pool = nn.MaxPool2d(kernel_size=(2,2), stride=(2,2))\n",
    "        self.conv2 = nn.Conv2d(in_channels=8, out_channels=16, kernel_size=(3,3))\n",
    "        self.fc1 = nn.Linear(16*6*6, num_classes)\n",
    "            \n",
    "            \n",
    "    def forward(self,x):\n",
    "        x = F.relu(self.conv1(x))\n",
    "        x = self.pool(x)\n",
    "        x = F.relu(self.conv2(x))\n",
    "        x = self.pool(x) # reusing the same pooling\n",
    "        x = x.reshape(x.shape[0],-1)\n",
    "        x = self.fc1(x)\n",
    "        \n",
    "        return x\n",
    "\n",
    "            \n",
    "\n",
    "in_channels = 1            \n",
    "num_classes = 10\n",
    "model = CNN(in_channels = in_channels , num_classes = num_classes)         \n",
    "\n",
    "x = torch.rand((8,1,28,28))\n",
    "y = model(x)\n",
    "\n",
    "print(y.shape)\n",
    "#print(y[0])"
   ]
  },
  {
   "cell_type": "code",
   "execution_count": 3,
   "id": "6a89f349",
   "metadata": {},
   "outputs": [
    {
     "name": "stdout",
     "output_type": "stream",
     "text": [
      "device:  cpu\n"
     ]
    }
   ],
   "source": [
    "# set device\n",
    "device = 'cuda' if torch.cuda.is_available() else 'cpu'\n",
    "print('device: ', device)\n"
   ]
  },
  {
   "cell_type": "code",
   "execution_count": 4,
   "id": "2740b7df",
   "metadata": {},
   "outputs": [],
   "source": [
    "# Hyperparameters\n",
    "batch_size = 8\n",
    "learning_rate = 0.001\n",
    "num_epochs = 2\n",
    "num_classes = 10\n"
   ]
  },
  {
   "cell_type": "code",
   "execution_count": 5,
   "id": "fbb4323b",
   "metadata": {},
   "outputs": [],
   "source": [
    "# initialize network\n",
    "model = CNN(in_channels = in_channels, num_classes = num_classes)        \n",
    "model = model.to(device)"
   ]
  },
  {
   "cell_type": "code",
   "execution_count": 6,
   "id": "0ed5a03e",
   "metadata": {},
   "outputs": [],
   "source": [
    "# dataset\n",
    "\n",
    "train_dataset = datasets.MNIST(root = 'dataset/', train = True, transform = transforms.ToTensor() ,download = True)\n",
    "train_loader = DataLoader(train_dataset, batch_size= batch_size, shuffle = True)\n",
    "test_dataset = datasets.MNIST(root = 'dataset/', train = False, transform = transforms.ToTensor() ,download = True)\n",
    "test_loader = DataLoader(test_dataset, batch_size= batch_size, shuffle = True)\n"
   ]
  },
  {
   "cell_type": "code",
   "execution_count": 7,
   "id": "d797dd61",
   "metadata": {},
   "outputs": [],
   "source": [
    "# loss and regularizer\n",
    "criterion = nn.CrossEntropyLoss()\n",
    "optimizer = optim.Adam(model.parameters(), lr= learning_rate)\n"
   ]
  },
  {
   "cell_type": "code",
   "execution_count": 8,
   "id": "6f49fa73",
   "metadata": {},
   "outputs": [],
   "source": [
    "# train\n",
    "for epoch in range(num_epochs):\n",
    "    for batch_idx, (data,targets) in enumerate(train_loader):\n",
    "        # Get cuda if possible\n",
    "        data = data.to(device = device)\n",
    "        targets = targets.to(device = device)\n",
    "        \n",
    "        \n",
    "        # forward\n",
    "        scores = model(data)\n",
    "        loss = criterion(scores, targets)\n",
    "        \n",
    "        # backward\n",
    "        optimizer.zero_grad()\n",
    "        loss.backward()\n",
    "        \n",
    "        # Gradient Descent/ Adam step\n",
    "        optimizer.step()\n",
    "        "
   ]
  },
  {
   "cell_type": "code",
   "execution_count": 9,
   "id": "2a9a78c3",
   "metadata": {},
   "outputs": [],
   "source": [
    "# check train and test accuracy\n",
    "def check_accuracy(loader, model):\n",
    "    num_correct = 0\n",
    "    num_samples = 0\n",
    "    model.eval()\n",
    "    \n",
    "    with torch.no_grad():   \n",
    "        for x,y in loader:\n",
    "            x = x.to(device = device)\n",
    "            y = y.to(device = device)\n",
    "\n",
    "            scores = model(x)\n",
    "            _,preds = scores.max(1)\n",
    "\n",
    "            num_correct += (preds==y).sum()\n",
    "            num_samples += preds.shape[0]\n",
    "        \n",
    "    print(f'Got {num_correct}/{num_samples} correct with accuracy of {float(num_correct)*100/float(num_samples):.2f} ')"
   ]
  },
  {
   "cell_type": "code",
   "execution_count": 10,
   "id": "adb415e5",
   "metadata": {},
   "outputs": [
    {
     "name": "stdout",
     "output_type": "stream",
     "text": [
      "Got 59085/60000 correct with accuracy of 98.47 \n"
     ]
    }
   ],
   "source": [
    "check_accuracy(train_loader, model)"
   ]
  },
  {
   "cell_type": "code",
   "execution_count": 11,
   "id": "e817ee98",
   "metadata": {},
   "outputs": [
    {
     "name": "stdout",
     "output_type": "stream",
     "text": [
      "Got 9821/10000 correct with accuracy of 98.21 \n"
     ]
    }
   ],
   "source": [
    "check_accuracy(test_loader, model)"
   ]
  },
  {
   "cell_type": "code",
   "execution_count": 14,
   "id": "3cbb5e54",
   "metadata": {},
   "outputs": [],
   "source": [
    "# check train and test accuracy\n",
    "def check_accuracy(loader, model):\n",
    "    if loader.dataset.train:\n",
    "        print('Checking on training data')\n",
    "    else:\n",
    "        print('Checking on test data')\n",
    "    num_correct = 0\n",
    "    num_samples = 0\n",
    "    model.eval()\n",
    "    with torch.no_grad():\n",
    "        for x,y in loader:\n",
    "            x = x.to(device = device)\n",
    "            y = y.to(device = device)\n",
    "\n",
    "            scores = model(x)\n",
    "            _,preds = scores.max(1)\n",
    "\n",
    "            num_correct += (preds==y).sum()\n",
    "            num_samples += preds.shape[0]\n",
    "        \n",
    "    print(f'Got {num_correct}/{num_samples} correct with accuracy of {float(num_correct)*100/float(num_samples):.2f} ')"
   ]
  },
  {
   "cell_type": "code",
   "execution_count": 15,
   "id": "33e7155d",
   "metadata": {},
   "outputs": [
    {
     "name": "stdout",
     "output_type": "stream",
     "text": [
      "Checking on training data\n",
      "Got 59085/60000 correct with accuracy of 98.47 \n"
     ]
    }
   ],
   "source": [
    "check_accuracy(train_loader, model)"
   ]
  },
  {
   "cell_type": "code",
   "execution_count": null,
   "id": "1b37168c",
   "metadata": {},
   "outputs": [],
   "source": []
  }
 ],
 "metadata": {
  "kernelspec": {
   "display_name": "Python 3 (ipykernel)",
   "language": "python",
   "name": "python3"
  },
  "language_info": {
   "codemirror_mode": {
    "name": "ipython",
    "version": 3
   },
   "file_extension": ".py",
   "mimetype": "text/x-python",
   "name": "python",
   "nbconvert_exporter": "python",
   "pygments_lexer": "ipython3",
   "version": "3.9.7"
  }
 },
 "nbformat": 4,
 "nbformat_minor": 5
}
