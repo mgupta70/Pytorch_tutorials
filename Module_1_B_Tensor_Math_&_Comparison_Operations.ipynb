{
 "cells": [
  {
   "cell_type": "code",
   "execution_count": 1,
   "id": "aa3cd683",
   "metadata": {},
   "outputs": [],
   "source": [
    "import torch\n",
    "import numpy as np"
   ]
  },
  {
   "cell_type": "code",
   "execution_count": 2,
   "id": "4360907d",
   "metadata": {},
   "outputs": [
    {
     "data": {
      "text/plain": [
       "'cpu'"
      ]
     },
     "execution_count": 2,
     "metadata": {},
     "output_type": "execute_result"
    }
   ],
   "source": [
    "device = 'cuda' if torch.cuda.is_available() else 'cpu'\n",
    "device"
   ]
  },
  {
   "cell_type": "code",
   "execution_count": 82,
   "id": "380486c9",
   "metadata": {},
   "outputs": [],
   "source": [
    "x = torch.tensor([1,2,3])\n",
    "y = torch.tensor([7,8,9])\n"
   ]
  },
  {
   "cell_type": "code",
   "execution_count": 4,
   "id": "c803ebd7",
   "metadata": {},
   "outputs": [],
   "source": [
    "# Addition"
   ]
  },
  {
   "cell_type": "code",
   "execution_count": 5,
   "id": "fe11f6c8",
   "metadata": {},
   "outputs": [
    {
     "name": "stdout",
     "output_type": "stream",
     "text": [
      "tensor([0., 0., 0.])\n",
      "tensor([ 8., 10., 12.])\n"
     ]
    }
   ],
   "source": [
    "z1 = torch.empty(3)\n",
    "print(z1)\n",
    "torch.add(x,y, out = z1)\n",
    "print(z1)"
   ]
  },
  {
   "cell_type": "code",
   "execution_count": 6,
   "id": "0660488a",
   "metadata": {},
   "outputs": [
    {
     "data": {
      "text/plain": [
       "tensor([ 8, 10, 12])"
      ]
     },
     "execution_count": 6,
     "metadata": {},
     "output_type": "execute_result"
    }
   ],
   "source": [
    "z2 = torch.add(x,y)\n",
    "z2"
   ]
  },
  {
   "cell_type": "code",
   "execution_count": 7,
   "id": "4963a2c6",
   "metadata": {},
   "outputs": [
    {
     "data": {
      "text/plain": [
       "tensor([ 8, 10, 12])"
      ]
     },
     "execution_count": 7,
     "metadata": {},
     "output_type": "execute_result"
    }
   ],
   "source": [
    "z3 = x+y # preferred\n",
    "z2"
   ]
  },
  {
   "cell_type": "code",
   "execution_count": 8,
   "id": "b5fae414",
   "metadata": {},
   "outputs": [],
   "source": [
    "# subtraction"
   ]
  },
  {
   "cell_type": "code",
   "execution_count": 9,
   "id": "7ac8073c",
   "metadata": {},
   "outputs": [
    {
     "data": {
      "text/plain": [
       "tensor([-6, -6, -6])"
      ]
     },
     "execution_count": 9,
     "metadata": {},
     "output_type": "execute_result"
    }
   ],
   "source": [
    "z = x-y\n",
    "z"
   ]
  },
  {
   "cell_type": "code",
   "execution_count": 11,
   "id": "bc8f2e01",
   "metadata": {},
   "outputs": [],
   "source": [
    "# division"
   ]
  },
  {
   "cell_type": "code",
   "execution_count": 13,
   "id": "b30c22e5",
   "metadata": {},
   "outputs": [
    {
     "data": {
      "text/plain": [
       "tensor([0.1429, 0.2500, 0.3333])"
      ]
     },
     "execution_count": 13,
     "metadata": {},
     "output_type": "execute_result"
    }
   ],
   "source": [
    "z = torch.true_divide(x,y) # element-wise division\n",
    "z"
   ]
  },
  {
   "cell_type": "code",
   "execution_count": 18,
   "id": "4c88bfd8",
   "metadata": {},
   "outputs": [],
   "source": [
    "# inplace operations"
   ]
  },
  {
   "cell_type": "code",
   "execution_count": 16,
   "id": "88c7f403",
   "metadata": {},
   "outputs": [
    {
     "name": "stdout",
     "output_type": "stream",
     "text": [
      "tensor([1., 2., 3.])\n"
     ]
    }
   ],
   "source": [
    "t = torch.zeros(3)\n",
    "t.add_(x) # whenever an operation has '_' at end => inplace operation\n",
    "print(t)"
   ]
  },
  {
   "cell_type": "code",
   "execution_count": 17,
   "id": "fe06fe50",
   "metadata": {},
   "outputs": [
    {
     "data": {
      "text/plain": [
       "tensor([2., 4., 6.])"
      ]
     },
     "execution_count": 17,
     "metadata": {},
     "output_type": "execute_result"
    }
   ],
   "source": [
    "t +=x\n",
    "t"
   ]
  },
  {
   "cell_type": "code",
   "execution_count": 19,
   "id": "03f701dc",
   "metadata": {},
   "outputs": [],
   "source": [
    "# exponentiation"
   ]
  },
  {
   "cell_type": "code",
   "execution_count": 20,
   "id": "23892b34",
   "metadata": {},
   "outputs": [
    {
     "data": {
      "text/plain": [
       "tensor([1, 4, 9])"
      ]
     },
     "execution_count": 20,
     "metadata": {},
     "output_type": "execute_result"
    }
   ],
   "source": [
    "z = x.pow(2)\n",
    "z"
   ]
  },
  {
   "cell_type": "code",
   "execution_count": 21,
   "id": "5518bbe9",
   "metadata": {},
   "outputs": [
    {
     "data": {
      "text/plain": [
       "tensor([1, 4, 9])"
      ]
     },
     "execution_count": 21,
     "metadata": {},
     "output_type": "execute_result"
    }
   ],
   "source": [
    "z = x**2\n",
    "z"
   ]
  },
  {
   "cell_type": "code",
   "execution_count": 22,
   "id": "3622a41d",
   "metadata": {},
   "outputs": [],
   "source": [
    "# simple comparisons"
   ]
  },
  {
   "cell_type": "code",
   "execution_count": 23,
   "id": "713b11f9",
   "metadata": {},
   "outputs": [
    {
     "data": {
      "text/plain": [
       "tensor([True, True, True])"
      ]
     },
     "execution_count": 23,
     "metadata": {},
     "output_type": "execute_result"
    }
   ],
   "source": [
    "z = x>0 # element-wise comparison\n",
    "z"
   ]
  },
  {
   "cell_type": "code",
   "execution_count": 24,
   "id": "e854e60a",
   "metadata": {},
   "outputs": [
    {
     "data": {
      "text/plain": [
       "tensor([False, False, False])"
      ]
     },
     "execution_count": 24,
     "metadata": {},
     "output_type": "execute_result"
    }
   ],
   "source": [
    "z = x<0\n",
    "z"
   ]
  },
  {
   "cell_type": "code",
   "execution_count": 25,
   "id": "fbd8dab3",
   "metadata": {},
   "outputs": [],
   "source": [
    "# matrix multiplication"
   ]
  },
  {
   "cell_type": "code",
   "execution_count": 27,
   "id": "52dc744d",
   "metadata": {},
   "outputs": [
    {
     "data": {
      "text/plain": [
       "tensor([[1.2751, 0.6750, 1.3783],\n",
       "        [2.0792, 1.1310, 1.8612]])"
      ]
     },
     "execution_count": 27,
     "metadata": {},
     "output_type": "execute_result"
    }
   ],
   "source": [
    "x1 = torch.rand((2,5))\n",
    "x2 = torch.rand((5,3))\n",
    "x3 = torch.mm(x1,x2)\n",
    "x3"
   ]
  },
  {
   "cell_type": "code",
   "execution_count": 28,
   "id": "215d6759",
   "metadata": {},
   "outputs": [
    {
     "data": {
      "text/plain": [
       "tensor([[1.2751, 0.6750, 1.3783],\n",
       "        [2.0792, 1.1310, 1.8612]])"
      ]
     },
     "execution_count": 28,
     "metadata": {},
     "output_type": "execute_result"
    }
   ],
   "source": [
    "x3 = x1.mm(x2)\n",
    "x3"
   ]
  },
  {
   "cell_type": "code",
   "execution_count": 29,
   "id": "05db90c3",
   "metadata": {},
   "outputs": [],
   "source": [
    "# matrix exponentiation"
   ]
  },
  {
   "cell_type": "code",
   "execution_count": 35,
   "id": "6d4cc1a8",
   "metadata": {},
   "outputs": [
    {
     "name": "stdout",
     "output_type": "stream",
     "text": [
      "tensor([[0.4116, 0.2395, 0.3212, 0.0805, 0.2014],\n",
      "        [0.4694, 0.7767, 0.9586, 0.6860, 0.7668],\n",
      "        [0.7182, 0.2247, 0.1865, 0.0579, 0.9797],\n",
      "        [0.0719, 0.1221, 0.2785, 0.4550, 0.3177],\n",
      "        [0.9277, 0.5323, 0.2596, 0.9234, 0.2200]])\n",
      "tensor([[1.5046, 1.0484, 1.0644, 1.2113, 1.2741],\n",
      "        [4.5340, 3.1887, 3.2635, 3.8331, 3.8962],\n",
      "        [2.3296, 1.7591, 1.9960, 1.9915, 2.2587],\n",
      "        [1.3244, 0.9383, 0.9783, 1.1722, 1.1465],\n",
      "        [2.9052, 2.0069, 2.0631, 2.3797, 2.6793]])\n"
     ]
    }
   ],
   "source": [
    "x4 = torch.rand((5,5))\n",
    "print(x4)\n",
    "print(x4.matrix_power(3))"
   ]
  },
  {
   "cell_type": "code",
   "execution_count": 36,
   "id": "8ff778e9",
   "metadata": {},
   "outputs": [],
   "source": [
    "# element-wise multiplication"
   ]
  },
  {
   "cell_type": "code",
   "execution_count": 37,
   "id": "2c752349",
   "metadata": {},
   "outputs": [
    {
     "data": {
      "text/plain": [
       "tensor([ 7, 16, 27])"
      ]
     },
     "execution_count": 37,
     "metadata": {},
     "output_type": "execute_result"
    }
   ],
   "source": [
    "z = x* y\n",
    "z"
   ]
  },
  {
   "cell_type": "code",
   "execution_count": 39,
   "id": "24484291",
   "metadata": {},
   "outputs": [],
   "source": [
    "# dot-product"
   ]
  },
  {
   "cell_type": "code",
   "execution_count": 40,
   "id": "7494a8a3",
   "metadata": {},
   "outputs": [
    {
     "data": {
      "text/plain": [
       "tensor(50)"
      ]
     },
     "execution_count": 40,
     "metadata": {},
     "output_type": "execute_result"
    }
   ],
   "source": [
    "z = torch.dot(x,y)\n",
    "z"
   ]
  },
  {
   "cell_type": "code",
   "execution_count": 41,
   "id": "5dc52f7a",
   "metadata": {},
   "outputs": [],
   "source": [
    "# batch matrix-multiplication"
   ]
  },
  {
   "cell_type": "code",
   "execution_count": 45,
   "id": "f8a72374",
   "metadata": {},
   "outputs": [
    {
     "name": "stdout",
     "output_type": "stream",
     "text": [
      "torch.Size([32, 10, 20])\n",
      "torch.Size([32, 20, 30])\n",
      "torch.Size([32, 10, 30])\n"
     ]
    }
   ],
   "source": [
    "batch = 32\n",
    "n = 10\n",
    "m = 20\n",
    "p = 30\n",
    "\n",
    "tensor1 = torch.rand((batch,n,m))\n",
    "print(tensor1.shape)\n",
    "tensor2 = torch.rand((batch,m,p))\n",
    "print(tensor2.shape)\n",
    "out_bmm = torch.bmm(tensor1, tensor2)\n",
    "print(out_bmm.shape)"
   ]
  },
  {
   "cell_type": "code",
   "execution_count": 46,
   "id": "de4498c5",
   "metadata": {},
   "outputs": [],
   "source": [
    "# broadcasting"
   ]
  },
  {
   "cell_type": "code",
   "execution_count": 47,
   "id": "3651c6ee",
   "metadata": {},
   "outputs": [
    {
     "data": {
      "text/plain": [
       "tensor([[-0.1895, -0.0162, -0.1473,  0.2020, -0.2481],\n",
       "        [-0.0444,  0.1305, -0.5062,  0.1264,  0.5217],\n",
       "        [-0.0256, -0.3652, -0.7146,  0.3004,  0.1781],\n",
       "        [ 0.3919,  0.3545, -0.1336,  0.3207, -0.3675],\n",
       "        [ 0.1986,  0.1484, -0.1641,  0.3661,  0.1768]])"
      ]
     },
     "execution_count": 47,
     "metadata": {},
     "output_type": "execute_result"
    }
   ],
   "source": [
    "x1 = torch.rand((5,5))\n",
    "x2 = torch.rand((1,5))\n",
    "\n",
    "z = x1-x2\n",
    "z"
   ]
  },
  {
   "cell_type": "code",
   "execution_count": 50,
   "id": "9259e2fc",
   "metadata": {},
   "outputs": [
    {
     "data": {
      "text/plain": [
       "tensor([[0.5694, 0.7211, 0.7610, 0.8145, 0.4752],\n",
       "        [0.6861, 0.8248, 0.4210, 0.7724, 0.9726],\n",
       "        [0.7000, 0.4154, 0.2057, 0.8646, 0.8048],\n",
       "        [0.9655, 0.9679, 0.7735, 0.8743, 0.2796],\n",
       "        [0.8512, 0.8369, 0.7456, 0.8955, 0.8041]])"
      ]
     },
     "execution_count": 50,
     "metadata": {},
     "output_type": "execute_result"
    }
   ],
   "source": [
    "z = x1**x2 # element-wise exponentiation to x2\n",
    "z"
   ]
  },
  {
   "cell_type": "code",
   "execution_count": 51,
   "id": "b91b5af7",
   "metadata": {},
   "outputs": [],
   "source": [
    "# other useful tensor operations"
   ]
  },
  {
   "cell_type": "code",
   "execution_count": 52,
   "id": "d69e0140",
   "metadata": {},
   "outputs": [
    {
     "data": {
      "text/plain": [
       "tensor(6)"
      ]
     },
     "execution_count": 52,
     "metadata": {},
     "output_type": "execute_result"
    }
   ],
   "source": [
    "sum_x = torch.sum(x, dim=0)\n",
    "sum_x"
   ]
  },
  {
   "cell_type": "code",
   "execution_count": 83,
   "id": "8a9ea7ee",
   "metadata": {},
   "outputs": [
    {
     "name": "stdout",
     "output_type": "stream",
     "text": [
      "tensor(3) tensor(2)\n",
      "tensor(3) tensor(2)\n"
     ]
    }
   ],
   "source": [
    "max_val, max_ind = torch.max(x, dim = 0)\n",
    "print(max_val, max_ind)\n",
    "\n",
    "max_val, max_ind = x.max( dim = 0)\n",
    "print(max_val, max_ind)"
   ]
  },
  {
   "cell_type": "code",
   "execution_count": 55,
   "id": "f5ac1a6e",
   "metadata": {},
   "outputs": [
    {
     "data": {
      "text/plain": [
       "tensor([1, 2, 3])"
      ]
     },
     "execution_count": 55,
     "metadata": {},
     "output_type": "execute_result"
    }
   ],
   "source": [
    "abs_x = torch.abs(x)\n",
    "abs_x"
   ]
  },
  {
   "cell_type": "code",
   "execution_count": 56,
   "id": "bd93b2e2",
   "metadata": {},
   "outputs": [
    {
     "data": {
      "text/plain": [
       "tensor(2)"
      ]
     },
     "execution_count": 56,
     "metadata": {},
     "output_type": "execute_result"
    }
   ],
   "source": [
    "z = torch.argmax(x, dim=0)\n",
    "z"
   ]
  },
  {
   "cell_type": "code",
   "execution_count": 57,
   "id": "684e3044",
   "metadata": {},
   "outputs": [
    {
     "data": {
      "text/plain": [
       "tensor(0)"
      ]
     },
     "execution_count": 57,
     "metadata": {},
     "output_type": "execute_result"
    }
   ],
   "source": [
    "z = torch.argmin(x, dim=0)\n",
    "z"
   ]
  },
  {
   "cell_type": "code",
   "execution_count": 58,
   "id": "559ce0ab",
   "metadata": {},
   "outputs": [],
   "source": [
    "mean_x = torch.mean(x.float(), dim=0) # pytorch requires it to be float for mean calculation"
   ]
  },
  {
   "cell_type": "code",
   "execution_count": 63,
   "id": "3c60ce51",
   "metadata": {},
   "outputs": [
    {
     "name": "stdout",
     "output_type": "stream",
     "text": [
      "torch.int64\n",
      "torch.float32\n"
     ]
    }
   ],
   "source": [
    "\n",
    "print(x.dtype)\n",
    "print((x.float()).dtype)"
   ]
  },
  {
   "cell_type": "code",
   "execution_count": 64,
   "id": "41c96f9c",
   "metadata": {},
   "outputs": [
    {
     "data": {
      "text/plain": [
       "tensor([False, False, False])"
      ]
     },
     "execution_count": 64,
     "metadata": {},
     "output_type": "execute_result"
    }
   ],
   "source": [
    "z = torch.eq(x,y) # check which elements are equal\n",
    "z"
   ]
  },
  {
   "cell_type": "code",
   "execution_count": 65,
   "id": "f2ca429e",
   "metadata": {},
   "outputs": [
    {
     "data": {
      "text/plain": [
       "torch.return_types.sort(\n",
       "values=tensor([7, 8, 9]),\n",
       "indices=tensor([0, 1, 2]))"
      ]
     },
     "execution_count": 65,
     "metadata": {},
     "output_type": "execute_result"
    }
   ],
   "source": [
    "torch.sort(y,dim=0, descending=False)"
   ]
  },
  {
   "cell_type": "code",
   "execution_count": 66,
   "id": "3244c118",
   "metadata": {},
   "outputs": [
    {
     "data": {
      "text/plain": [
       "torch.return_types.sort(\n",
       "values=tensor([9, 8, 7]),\n",
       "indices=tensor([2, 1, 0]))"
      ]
     },
     "execution_count": 66,
     "metadata": {},
     "output_type": "execute_result"
    }
   ],
   "source": [
    "torch.sort(y,dim=0, descending=True)"
   ]
  },
  {
   "cell_type": "code",
   "execution_count": 67,
   "id": "7c5b89e3",
   "metadata": {},
   "outputs": [
    {
     "name": "stdout",
     "output_type": "stream",
     "text": [
      "tensor([9, 8, 7]) tensor([2, 1, 0])\n"
     ]
    }
   ],
   "source": [
    "sorted_y, indices = torch.sort(y,dim=0, descending=True)\n",
    "print(sorted_y, indices)"
   ]
  },
  {
   "cell_type": "code",
   "execution_count": 68,
   "id": "0d7a914c",
   "metadata": {},
   "outputs": [
    {
     "data": {
      "text/plain": [
       "tensor([1, 2, 3])"
      ]
     },
     "execution_count": 68,
     "metadata": {},
     "output_type": "execute_result"
    }
   ],
   "source": [
    "z = torch.clamp(x, min=0, max = 10) # set min = 0 if elements are less than 0 and 10 if elements are more than 10\n",
    "z"
   ]
  },
  {
   "cell_type": "code",
   "execution_count": 74,
   "id": "8833b73e",
   "metadata": {},
   "outputs": [
    {
     "data": {
      "text/plain": [
       "tensor([1, 2, 3])"
      ]
     },
     "execution_count": 74,
     "metadata": {},
     "output_type": "execute_result"
    }
   ],
   "source": [
    "# Relu\n",
    "z = torch.clamp(x, min=0)\n",
    "z"
   ]
  },
  {
   "cell_type": "code",
   "execution_count": 80,
   "id": "ad9a7b77",
   "metadata": {},
   "outputs": [
    {
     "name": "stdout",
     "output_type": "stream",
     "text": [
      "tensor([ True, False,  True,  True,  True,  True])\n",
      "tensor(True)\n",
      "tensor(False)\n"
     ]
    }
   ],
   "source": [
    "x = torch.tensor([1,0,1,1,1,1], dtype = torch.bool)\n",
    "print(x)\n",
    "z = torch.any(x)\n",
    "print(z)\n",
    "z = torch.all(x)\n",
    "print(z)"
   ]
  },
  {
   "cell_type": "code",
   "execution_count": null,
   "id": "079efe76",
   "metadata": {},
   "outputs": [],
   "source": []
  }
 ],
 "metadata": {
  "kernelspec": {
   "display_name": "Python 3 (ipykernel)",
   "language": "python",
   "name": "python3"
  },
  "language_info": {
   "codemirror_mode": {
    "name": "ipython",
    "version": 3
   },
   "file_extension": ".py",
   "mimetype": "text/x-python",
   "name": "python",
   "nbconvert_exporter": "python",
   "pygments_lexer": "ipython3",
   "version": "3.9.7"
  }
 },
 "nbformat": 4,
 "nbformat_minor": 5
}
