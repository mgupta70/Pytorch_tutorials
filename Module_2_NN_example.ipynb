{
 "cells": [
  {
   "cell_type": "code",
   "execution_count": 1,
   "id": "10966319",
   "metadata": {},
   "outputs": [],
   "source": [
    "# imports\n",
    "# create Fully connected NN\n",
    "# set device\n",
    "# Hyperparameters\n",
    "# load data\n",
    "# initialise network\n",
    "# loss and regularizer\n",
    "# train\n",
    "# check accuracy on train and test"
   ]
  },
  {
   "cell_type": "code",
   "execution_count": 6,
   "id": "3424f323",
   "metadata": {},
   "outputs": [],
   "source": [
    "# imports\n",
    "import torch\n",
    "import torch.nn as nn # Neural Network modules\n",
    "import torch.optim as optim # all optimisation algos like SGD, Adam, etc\n",
    "import torch.nn.functional as F # all functions that dont have parameters liek relu, tanh\n",
    "from torch.utils.data import DataLoader\n",
    "import torchvision.datasets as datasets\n",
    "import torchvision.transforms as transforms # this has transformations we can perform on our dataset"
   ]
  },
  {
   "cell_type": "code",
   "execution_count": 10,
   "id": "f3c282b6",
   "metadata": {},
   "outputs": [
    {
     "name": "stdout",
     "output_type": "stream",
     "text": [
      "torch.Size([64, 784])\n",
      "torch.Size([64, 10])\n",
      "tensor([ 0.0976,  0.1003, -0.0958,  0.1367,  0.2317, -0.2072, -0.0990, -0.1688,\n",
      "         0.0081,  0.1027], grad_fn=<SelectBackward0>)\n"
     ]
    }
   ],
   "source": [
    "# create Fully connected NN\n",
    "\n",
    "class NN(nn.Module):\n",
    "    def __init__(self, input_size, num_classes):\n",
    "        super(NN,self).__init__() # super calls initialization method of parent class i.e. nn.Module in this case\n",
    "        self.fc1 = nn.Linear(input_size, 50)\n",
    "        self.fc2 = nn.Linear(50, num_classes)\n",
    "        \n",
    "    def forward(self, x):\n",
    "        x = F.relu(self.fc1(x))\n",
    "        x = self.fc2(x)\n",
    "        return x\n",
    "    \n",
    "# check if it works by randomly creating an input\n",
    "model = NN(784, 10)\n",
    "x = torch.rand(64, 784)\n",
    "print(x.shape)\n",
    "y = model(x)\n",
    "print(y.shape)\n",
    "print(y[0]) # we can see since we hadn't called the softmax the sum of 10 values is not equal to 1\n",
    "\n"
   ]
  },
  {
   "cell_type": "code",
   "execution_count": 11,
   "id": "295bd5a2",
   "metadata": {},
   "outputs": [
    {
     "name": "stdout",
     "output_type": "stream",
     "text": [
      "device:  cpu\n"
     ]
    }
   ],
   "source": [
    "# set device\n",
    "device = 'cuda' if torch.cuda.is_available() else 'cpu'\n",
    "print('device: ', device)\n"
   ]
  },
  {
   "cell_type": "code",
   "execution_count": 17,
   "id": "d1010613",
   "metadata": {},
   "outputs": [],
   "source": [
    "# Hyperparameters\n",
    "input_size = 784\n",
    "num_classes = 10\n",
    "learning_rate = 0.001\n",
    "batch_size = 64\n",
    "num_epochs = 2"
   ]
  },
  {
   "cell_type": "code",
   "execution_count": 52,
   "id": "6e5dd09b",
   "metadata": {},
   "outputs": [],
   "source": [
    "# load data\n",
    "train_dataset = datasets.MNIST(root = 'dataset/', train=True,transform = transforms.ToTensor(), download= True)\n",
    "train_loader = DataLoader(dataset=train_dataset, batch_size= batch_size, shuffle = True)\n",
    "test_dataset = datasets.MNIST(root = 'dataset/', train=False,transform = transforms.ToTensor(), download=True)\n",
    "test_loader = DataLoader(dataset=test_dataset, batch_size= batch_size, shuffle = True)"
   ]
  },
  {
   "cell_type": "code",
   "execution_count": 56,
   "id": "f4904002",
   "metadata": {},
   "outputs": [
    {
     "data": {
      "text/plain": [
       "NN(\n",
       "  (fc1): Linear(in_features=784, out_features=50, bias=True)\n",
       "  (fc2): Linear(in_features=50, out_features=10, bias=True)\n",
       ")"
      ]
     },
     "execution_count": 56,
     "metadata": {},
     "output_type": "execute_result"
    }
   ],
   "source": [
    "# initialise network\n",
    "model = NN(input_size = input_size, num_classes= num_classes).to(device)\n",
    "model\n"
   ]
  },
  {
   "cell_type": "code",
   "execution_count": 57,
   "id": "f12d26e4",
   "metadata": {},
   "outputs": [],
   "source": [
    "# loss and regularizer\n",
    "criterion = nn.CrossEntropyLoss()\n",
    "optimizer = optim.Adam(model.parameters(), lr = learning_rate)"
   ]
  },
  {
   "cell_type": "code",
   "execution_count": 58,
   "id": "53f399b1",
   "metadata": {},
   "outputs": [],
   "source": [
    "# train\n",
    "for epoch in range(num_epochs):\n",
    "    for batch_idx, (data, targets) in enumerate(train_loader):\n",
    "        # Get data to cuda if possible\n",
    "        data = data.to(device = device)\n",
    "        targets = targets.to(device = device)\n",
    "        #print(data.shape, targets.shape) # [64,1,28,28]\n",
    "        \n",
    "        # Get to correct shape\n",
    "        data = data.view(data.shape[0],-1)\n",
    "        # or data = data.reshape(data.shape[0], -1)\n",
    "        #print(data.shape, targets.shape)\n",
    "        \n",
    "        # forward\n",
    "        scores = model(data)\n",
    "        loss = criterion(scores, targets)\n",
    "        \n",
    "        # backward\n",
    "        optimizer.zero_grad() # VERY IMPORTANT\n",
    "        loss.backward()\n",
    "        \n",
    "        # Gradient Descent/ Adam step\n",
    "        optimizer.step()\n",
    "        \n",
    "        \n",
    "        "
   ]
  },
  {
   "cell_type": "code",
   "execution_count": 63,
   "id": "e4bbe2d2",
   "metadata": {},
   "outputs": [],
   "source": [
    "# check accuracy on train and test\n",
    "def check_accuracy(loader,model):\n",
    "    num_correct = 0\n",
    "    num_samples = 0\n",
    "    model.eval() # Very IMPORTANT\n",
    "    \n",
    "    with torch.no_grad(): # unnecessary to calculate gradients after training\n",
    "        for x,y in loader:\n",
    "            x = x.to(device = device)\n",
    "            y = y.to(device = device)\n",
    "            x = x.reshape(x.shape[0],-1)\n",
    "            scores = model(x) # [64x10]\n",
    "            _, preds = scores.max(1) # along 2nd dimension i.e. 1\n",
    "            num_correct+=(preds==y).sum()\n",
    "            num_samples += preds.shape[0]\n",
    "    print(f'Got {num_correct}/ {num_samples} with accuracy {float(num_correct)*100/float(num_samples):.2f}')"
   ]
  },
  {
   "cell_type": "code",
   "execution_count": 64,
   "id": "1f56cc99",
   "metadata": {},
   "outputs": [
    {
     "name": "stdout",
     "output_type": "stream",
     "text": [
      "Got 56790/ 60000 with accuracy 94.65\n"
     ]
    }
   ],
   "source": [
    "check_accuracy(train_loader,model=model)"
   ]
  },
  {
   "cell_type": "code",
   "execution_count": 61,
   "id": "4d998c49",
   "metadata": {},
   "outputs": [
    {
     "name": "stdout",
     "output_type": "stream",
     "text": [
      "Got 9425/ 10000 with accuracy 94.25\n"
     ]
    }
   ],
   "source": [
    "check_accuracy(test_loader,model=model)"
   ]
  },
  {
   "cell_type": "code",
   "execution_count": 66,
   "id": "bdafb4bb",
   "metadata": {},
   "outputs": [],
   "source": [
    "# check accuracy on train and test\n",
    "def check_accuracy(loader,model):\n",
    "    if loader.dataset.train:\n",
    "        print('Checking on training data')\n",
    "    else:\n",
    "        print('Checking on test data')\n",
    "    num_correct = 0\n",
    "    num_samples = 0\n",
    "    model.eval() # Very IMPORTANT\n",
    "    \n",
    "    with torch.no_grad(): # unnecessary to calculate gradients after training\n",
    "        for x,y in loader:\n",
    "            x = x.to(device = device)\n",
    "            y = y.to(device = device)\n",
    "            x = x.reshape(x.shape[0],-1)\n",
    "            scores = model(x) # [64x10]\n",
    "            _, preds = scores.max(1) # along 2nd dimension i.e. 1\n",
    "            num_correct+=(preds==y).sum()\n",
    "            num_samples += preds.shape[0]\n",
    "        print(f'Got {num_correct}/ {num_samples} with accuracy {float(num_correct)*100/float(num_samples):.2f}')\n",
    "    model.train()"
   ]
  },
  {
   "cell_type": "code",
   "execution_count": 67,
   "id": "d0cce8ec",
   "metadata": {},
   "outputs": [
    {
     "name": "stdout",
     "output_type": "stream",
     "text": [
      "Checking on training data\n",
      "Got 56790/ 60000 with accuracy 94.65\n"
     ]
    }
   ],
   "source": [
    "check_accuracy(train_loader,model=model)"
   ]
  },
  {
   "cell_type": "code",
   "execution_count": 62,
   "id": "eb44f0c0",
   "metadata": {},
   "outputs": [
    {
     "data": {
      "text/plain": [
       "Dataset MNIST\n",
       "    Number of datapoints: 10000\n",
       "    Root location: dataset/\n",
       "    Split: Test\n",
       "    StandardTransform\n",
       "Transform: ToTensor()"
      ]
     },
     "execution_count": 62,
     "metadata": {},
     "output_type": "execute_result"
    }
   ],
   "source": [
    "# Troubleshooting (ME)\n",
    "test_loader.dataset\n"
   ]
  },
  {
   "cell_type": "code",
   "execution_count": null,
   "id": "63fe68d0",
   "metadata": {},
   "outputs": [],
   "source": []
  }
 ],
 "metadata": {
  "kernelspec": {
   "display_name": "Python 3 (ipykernel)",
   "language": "python",
   "name": "python3"
  },
  "language_info": {
   "codemirror_mode": {
    "name": "ipython",
    "version": 3
   },
   "file_extension": ".py",
   "mimetype": "text/x-python",
   "name": "python",
   "nbconvert_exporter": "python",
   "pygments_lexer": "ipython3",
   "version": "3.9.7"
  }
 },
 "nbformat": 4,
 "nbformat_minor": 5
}
