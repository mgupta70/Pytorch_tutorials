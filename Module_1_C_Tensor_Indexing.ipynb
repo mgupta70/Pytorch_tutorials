{
 "cells": [
  {
   "cell_type": "code",
   "execution_count": 1,
   "id": "f11ce753",
   "metadata": {},
   "outputs": [],
   "source": [
    "import torch\n",
    "import numpy as np"
   ]
  },
  {
   "cell_type": "code",
   "execution_count": 2,
   "id": "f410e426",
   "metadata": {},
   "outputs": [
    {
     "name": "stdout",
     "output_type": "stream",
     "text": [
      "tensor([0.0743, 0.3910, 0.1053, 0.4591, 0.1448, 0.8960, 0.9152, 0.0210, 0.9539,\n",
      "        0.2030, 0.6312, 0.5912, 0.3944, 0.7924, 0.0281, 0.7313, 0.0046, 0.1368,\n",
      "        0.9471, 0.7864, 0.7030, 0.1035, 0.8220, 0.2977, 0.6877])\n",
      "torch.Size([25])\n"
     ]
    }
   ],
   "source": [
    "batch_size = 10\n",
    "features = 25\n",
    "x = torch.rand((batch_size, features))\n",
    "\n",
    "print(x[0])# first sample features # same as x[0,:]\n",
    "print(x[0].shape) \n"
   ]
  },
  {
   "cell_type": "code",
   "execution_count": 3,
   "id": "0993127f",
   "metadata": {},
   "outputs": [
    {
     "name": "stdout",
     "output_type": "stream",
     "text": [
      "tensor([0.0743, 0.1899, 0.5762, 0.8538, 0.7379, 0.5125, 0.7871, 0.3682, 0.4882,\n",
      "        0.9312])\n"
     ]
    }
   ],
   "source": [
    "print(x[:,0])# first feature of all 10 examples"
   ]
  },
  {
   "cell_type": "code",
   "execution_count": 4,
   "id": "52f30df8",
   "metadata": {},
   "outputs": [
    {
     "name": "stdout",
     "output_type": "stream",
     "text": [
      "tensor([0.5762, 0.9851, 0.3300, 0.3487, 0.7826, 0.9337, 0.0040, 0.3921, 0.8291,\n",
      "        0.1683])\n"
     ]
    }
   ],
   "source": [
    "print(x[2,:10]) # 3rd sample first 10 features"
   ]
  },
  {
   "cell_type": "code",
   "execution_count": 5,
   "id": "bed2d03a",
   "metadata": {},
   "outputs": [],
   "source": [
    "x[0,0] = 100 # to change"
   ]
  },
  {
   "cell_type": "code",
   "execution_count": 6,
   "id": "504ed9ef",
   "metadata": {},
   "outputs": [],
   "source": [
    "# fancy indexing"
   ]
  },
  {
   "cell_type": "code",
   "execution_count": 8,
   "id": "a84de089",
   "metadata": {},
   "outputs": [
    {
     "name": "stdout",
     "output_type": "stream",
     "text": [
      "tensor([0, 1, 2, 3, 4, 5, 6, 7, 8, 9])\n",
      "tensor([2, 5, 8])\n"
     ]
    }
   ],
   "source": [
    "x = torch.arange(10)\n",
    "print(x)\n",
    "indices = [2,5,8]\n",
    "print(x[indices])"
   ]
  },
  {
   "cell_type": "code",
   "execution_count": 10,
   "id": "3292a190",
   "metadata": {},
   "outputs": [
    {
     "name": "stdout",
     "output_type": "stream",
     "text": [
      "tensor([[0.0192, 0.4479, 0.3799, 0.7579, 0.4431],\n",
      "        [0.7117, 0.0163, 0.6514, 0.5738, 0.2574],\n",
      "        [0.4150, 0.3179, 0.9449, 0.8133, 0.6602]])\n",
      "tensor([0.2574, 0.0192])\n"
     ]
    }
   ],
   "source": [
    "x = torch.rand((3,5))\n",
    "print(x)\n",
    "rows = torch.tensor([1,0])\n",
    "cols = torch.tensor([4,0])\n",
    "print(x[rows,cols]) # picks out 2nd row 5th column and then, 1st row and 1st column"
   ]
  },
  {
   "cell_type": "code",
   "execution_count": 11,
   "id": "3e142a33",
   "metadata": {},
   "outputs": [],
   "source": [
    "# advanced indexing"
   ]
  },
  {
   "cell_type": "code",
   "execution_count": 12,
   "id": "be19df08",
   "metadata": {},
   "outputs": [
    {
     "data": {
      "text/plain": [
       "tensor([0, 1, 2, 3, 4, 5, 6, 7, 8, 9])"
      ]
     },
     "execution_count": 12,
     "metadata": {},
     "output_type": "execute_result"
    }
   ],
   "source": [
    "x = torch.arange(10)\n",
    "x"
   ]
  },
  {
   "cell_type": "code",
   "execution_count": 14,
   "id": "97dd3f48",
   "metadata": {},
   "outputs": [
    {
     "name": "stdout",
     "output_type": "stream",
     "text": [
      "tensor([0, 1, 9])\n"
     ]
    }
   ],
   "source": [
    "print(x[(x<2)| (x>8)]) # pick elements less than 2 or greater than 8"
   ]
  },
  {
   "cell_type": "code",
   "execution_count": 15,
   "id": "6cc9fe2f",
   "metadata": {},
   "outputs": [
    {
     "name": "stdout",
     "output_type": "stream",
     "text": [
      "tensor([], dtype=torch.int64)\n"
     ]
    }
   ],
   "source": [
    "print(x[(x<2)& (x>8)]) # no solution -> empty tensor"
   ]
  },
  {
   "cell_type": "code",
   "execution_count": 16,
   "id": "2dbc3867",
   "metadata": {},
   "outputs": [
    {
     "name": "stdout",
     "output_type": "stream",
     "text": [
      "tensor([0, 2, 4, 6, 8])\n"
     ]
    }
   ],
   "source": [
    "print(x[x.remainder(2)==0])"
   ]
  },
  {
   "cell_type": "code",
   "execution_count": 17,
   "id": "3a9b6850",
   "metadata": {},
   "outputs": [],
   "source": [
    "# useful operations"
   ]
  },
  {
   "cell_type": "code",
   "execution_count": 19,
   "id": "5ce78c5c",
   "metadata": {},
   "outputs": [
    {
     "name": "stdout",
     "output_type": "stream",
     "text": [
      "tensor([ 0,  2,  4,  6,  8, 10,  6,  7,  8,  9])\n"
     ]
    }
   ],
   "source": [
    "print(torch.where(x>5,x,x*2)) # find where x>5, if x>5 then remain same, if x!>5 then multiply by 2"
   ]
  },
  {
   "cell_type": "code",
   "execution_count": 20,
   "id": "4d76b392",
   "metadata": {},
   "outputs": [
    {
     "name": "stdout",
     "output_type": "stream",
     "text": [
      "tensor([0, 1, 2, 3, 4])\n"
     ]
    }
   ],
   "source": [
    "print(torch.tensor([0,0,1,2,3,4,4,2]).unique())"
   ]
  },
  {
   "cell_type": "code",
   "execution_count": 22,
   "id": "fcf91fca",
   "metadata": {},
   "outputs": [
    {
     "name": "stdout",
     "output_type": "stream",
     "text": [
      "1\n"
     ]
    }
   ],
   "source": [
    "print(x.ndimension())"
   ]
  },
  {
   "cell_type": "code",
   "execution_count": 25,
   "id": "0eed6569",
   "metadata": {},
   "outputs": [
    {
     "name": "stdout",
     "output_type": "stream",
     "text": [
      "1\n"
     ]
    }
   ],
   "source": [
    "print(x.ndim)"
   ]
  },
  {
   "cell_type": "code",
   "execution_count": 28,
   "id": "ddd53db4",
   "metadata": {},
   "outputs": [
    {
     "name": "stdout",
     "output_type": "stream",
     "text": [
      "3\n",
      "3\n",
      "125\n"
     ]
    }
   ],
   "source": [
    "x = torch.rand([5,5,5])\n",
    "print(x.ndimension())\n",
    "print(x.ndim)\n",
    "print(x.numel()) # count number of elements in x"
   ]
  },
  {
   "cell_type": "code",
   "execution_count": null,
   "id": "01aa1b3d",
   "metadata": {},
   "outputs": [],
   "source": []
  }
 ],
 "metadata": {
  "kernelspec": {
   "display_name": "Python 3 (ipykernel)",
   "language": "python",
   "name": "python3"
  },
  "language_info": {
   "codemirror_mode": {
    "name": "ipython",
    "version": 3
   },
   "file_extension": ".py",
   "mimetype": "text/x-python",
   "name": "python",
   "nbconvert_exporter": "python",
   "pygments_lexer": "ipython3",
   "version": "3.9.7"
  }
 },
 "nbformat": 4,
 "nbformat_minor": 5
}
